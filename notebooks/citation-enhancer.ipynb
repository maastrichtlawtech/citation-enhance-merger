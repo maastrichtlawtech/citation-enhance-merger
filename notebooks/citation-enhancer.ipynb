{
 "cells": [
  {
   "cell_type": "code",
   "execution_count": null,
   "metadata": {},
   "outputs": [],
   "source": [
    "import os\n",
    "import json\n",
    "\n",
    "import qgrid as q\n",
    "import pandas as pd"
   ]
  },
  {
   "cell_type": "code",
   "execution_count": null,
   "metadata": {},
   "outputs": [],
   "source": [
    "# Set paths\n",
    "ECHR_DATA_FILE = '../data/ECHR_metadata_from0till84k.json'\n",
    "NETWORK_FILE = '../data/network.json'"
   ]
  },
  {
   "cell_type": "markdown",
   "metadata": {},
   "source": [
    "## Load and merge files\n",
    "Processing 84k ECHR cases scraped from HUDOC API. Merging it with the references extracted with [`jorgecarleitao/echr_network`](https://github.com/jorgecarleitao/echr_network)\n",
    "\n",
    "### HUDOC Dataset\n",
    "\n",
    "query: `see` [`ECHR_metadata_harvester.ipynb`](ECHR_metadata_harvester.ipynb)\n",
    "\n",
    "file: `ECHR_metadata_from0till84k.json`\n",
    "\n",
    "scraped: `31 August 2020 at 15:23`"
   ]
  },
  {
   "cell_type": "code",
   "execution_count": null,
   "metadata": {},
   "outputs": [],
   "source": [
    "# Load JSON\n",
    "df_citation_check = pd.read_json(ECHR_DATA_FILE)\n",
    "\n",
    "# Filter relevant columns\n",
    "df_citation_check = df_citation_check[['itemid','languageisocode','appno','extractedappno','scl']]\n",
    "\n",
    "df_citation_check.head()"
   ]
  },
  {
   "cell_type": "code",
   "execution_count": null,
   "metadata": {},
   "outputs": [],
   "source": [
    "# Languages overview\n",
    "df_citation_check.groupby('languageisocode').size().sort_values(ascending=False).head()"
   ]
  },
  {
   "cell_type": "markdown",
   "metadata": {},
   "source": [
    "### Network Dataset _incomplete_\n",
    "\n",
    "query: `n/a`\n",
    "\n",
    "file: `network.json`\n",
    "\n",
    "scraped: `27 August 2020 at 13:50`"
   ]
  },
  {
   "cell_type": "code",
   "execution_count": null,
   "metadata": {},
   "outputs": [],
   "source": [
    "# Load JSON file\n",
    "df_to_merge = pd.read_json(NETWORK_FILE)\n",
    "\n",
    "# Pre arrange df\n",
    "df_to_merge = df_to_merge.transpose()\n",
    "df_to_merge['itemid'] = df_to_merge.index\n",
    "\n",
    "# Filter relevant columns\n",
    "df_to_merge = df_to_merge[['itemid','references']]\n",
    "df_to_merge.head()"
   ]
  },
  {
   "cell_type": "markdown",
   "metadata": {},
   "source": [
    "## Preprocessing\n",
    "Remove duplicated application numbers in exractedappno. \n",
    "\n",
    "_Eg_ `appno=38042/06 extractedappno=38042/06;30979/96;31932/03` \n",
    "\n",
    "will become `appno=38042/06 extractedappno=30979/96;31932/03`"
   ]
  },
  {
   "cell_type": "code",
   "execution_count": null,
   "metadata": {},
   "outputs": [],
   "source": [
    "# Replace appno in every extractedappno with blank\n",
    "df_citation_check['extractedappno'] = df_citation_check.apply(lambda row: row['extractedappno'].replace(f\"{row['appno']};\", ''), axis=1)\n",
    "df_citation_check['extractedappno'] = df_citation_check.apply(lambda row: row['extractedappno'].replace(f\"{row['appno']}\", ''), axis=1)\n",
    "\n",
    "df_citation_check.head()"
   ]
  },
  {
   "cell_type": "markdown",
   "metadata": {},
   "source": [
    "## Citations diff _(scl vs extractedappno)_\n",
    "Explore how frequently citations are missing when comparing the two columns in the HUDOC-metadata. Calculate whether the number of citations in the scl column exceeds the number of citations in the extractedappno column or v.v.\n",
    "\n",
    "- If number of citations in extractedappno **>** number of citations in scl: **score=1**\n",
    "- If number of citations in extractedappno **<** number of citations in scl: **score=-1**\n",
    "- If number of citations in extractedappno **=** number of citations in scl: **score=0** "
   ]
  },
  {
   "cell_type": "code",
   "execution_count": null,
   "metadata": {},
   "outputs": [],
   "source": [
    "def diff(extractedappno, scl):\n",
    "    # Get the length of both lists. Return 0 if the list is empty (having only one empty element)\n",
    "    l_extractedappno = 0 if extractedappno[0] == '' else len(extractedappno)\n",
    "    l_scl = 0 if scl[0] == '' else len(scl)\n",
    "    \n",
    "    # extractedappno > scl: score=1\n",
    "    if l_extractedappno > l_scl:\n",
    "        return 1\n",
    "    # extractedappno < scl: score=-1\n",
    "    elif l_extractedappno < l_scl:\n",
    "        return -1\n",
    "    # extractedappno = scl: score=0 \n",
    "    else:\n",
    "        return 0\n",
    "\n",
    "# Add new column with the score values. Apply diff on extractedappno and scl, spliting them by ;\n",
    "df_citation_check['citation_diff_extr_vs_scl_all'] = df_citation_check.apply(lambda row: diff(row['extractedappno'].split(';'), row['scl'].split(';')), axis=1)\n",
    "\n",
    "# Print the diffs counters\n",
    "df_citation_check.groupby('citation_diff_extr_vs_scl_all').size()"
   ]
  },
  {
   "cell_type": "markdown",
   "metadata": {},
   "source": [
    "## Language merge\n",
    "For each application number (appno), merge the application numbers from the extractedappno (for the different languages) column."
   ]
  },
  {
   "cell_type": "code",
   "execution_count": null,
   "metadata": {},
   "outputs": [],
   "source": [
    "# Super ugly solution, promise will find something better\n",
    "def merge_extracted(appno):\n",
    "    # Get all the rows with appno. List all the extractedappno, convert them to strings and split them by rows\n",
    "    # eg ['21986/93;37685/10;22768/12','\"\"', '21986/93']\n",
    "    lst = (df_citation_check.query(f'appno==\"{appno}\"')['extractedappno']\n",
    "        .to_csv(header=None, index=False)\n",
    "        .strip()\n",
    "        .split('\\n'))\n",
    "        \n",
    "    # Split the strings into lists by ;\n",
    "    # eg [['21986/93', '37685/10', '22768/12'], ['\"\"'], ['21986/93']]\n",
    "    groups = [group.split(';') for group in lst]\n",
    "    \n",
    "    # Double list comprehensions: Extract each appno from all the groups. Ignore if value is empty string\n",
    "    # eg ['21986/93', '37685/10', '22768/12', '21986/93']\n",
    "    apps = [app for group in groups for app in group if app != '\"\"'] \n",
    "    \n",
    "    # Remove duplicates from the final list\n",
    "    # eg ['21986/93', '37685/10', '22768/12']\n",
    "    return list(set(apps))\n",
    "\n",
    "df_citation_check['extractedappno_merged'] = df_citation_check.apply(lambda row: merge_extracted(row['appno']), axis=1)\n",
    "df_citation_check.head()"
   ]
  },
  {
   "cell_type": "code",
   "execution_count": null,
   "metadata": {},
   "outputs": [],
   "source": [
    "# Back out merged dataset (881s run time)\n",
    "df_citation_check.to_csv('../data/export/df_citation_check_lang_merged.csv')"
   ]
  },
  {
   "cell_type": "markdown",
   "metadata": {},
   "source": [
    "## Dataset merge\n",
    "Merge the two datasets in order to get, check and merge the extracted references."
   ]
  },
  {
   "cell_type": "code",
   "execution_count": null,
   "metadata": {},
   "outputs": [],
   "source": [
    "# Filter the english entries\n",
    "df_citation_eng = df_citation_check.query('languageisocode == \"ENG\"')\n",
    "df_citation_eng.head()"
   ]
  },
  {
   "cell_type": "code",
   "execution_count": null,
   "metadata": {},
   "outputs": [],
   "source": [
    "merged_df = pd.merge(df_citation_eng,df_to_merge, on='itemid')\n",
    "merged_df.head()"
   ]
  },
  {
   "cell_type": "code",
   "execution_count": null,
   "metadata": {},
   "outputs": [],
   "source": [
    "#TO DO\n",
    "\"\"\"Goal is to enrich the extracted citations by HUDOC with parsed citations with the method explained in https://github.com/jorgecarleitao/echr_network/. \n",
    "The necessity follows from the issue that HUDOC harvests citations, but not all, especially the ones where no application number is mentioned, \n",
    "whereas non-HUDOC scripts do not capture many of the HUDOC-extracted citations.\n",
    "\n",
    "Preprocessing\n",
    "1. Remove application numbers in exractedappno that are the same as the application number in appno (eg extractedappno=(38042/06;30979/96;31932/03) and appno=38042/06) \n",
    "\n",
    "Explore how frequently citations are missing when comparing the two columns in the HUDOC-metadata \n",
    "2. Create column that calculates whether the number of citations in the scl column exceeds the number of citations in the extractedappno column or v.v.\n",
    "Do this for the complete df ['citation_diff_extr_vs_scl_all'] and the df with only English documents ['citation_diff_extr_vs_scl_ENG']:\n",
    "- If number of citations in extractedappno > number of citations in scl: score=1\n",
    "- If number of citations in extractedappno < number of citations in scl: score=-1\n",
    "- If number of citations in extractedappno = number of citations in scl: score=0 \n",
    "\n",
    "Insert missing citations in HUDOC-based dataset\n",
    "3. For each application number (appno), merge the application numbers from the extractedappno (for the different languages) column.\n",
    "\n",
    "Explore how frequently citations are missing in the HUDOC-metadata and/or in the parsed data\n",
    "4. Create column that calculates whether the number of citations in the extracteappno column exceeds the number of citations in the references column based on the parsed references (and v.v.)\n",
    "- If number of citations in extractedappno > number of citations in references: score=1\n",
    "- If number of citations in extractedappno < number of citations in references: score=-1\n",
    "- If number of citations in extractedappno = number of citations in references: score=0 \n",
    "\n",
    "Update the extractedappno column where the parsed references include additional citations\n",
    "6. Create column that copies references column. Replace itemids in references with application numbers\n",
    "7. Create column named extractedappno_enhanced. Copy the values of extractedappno in there\n",
    "8. If reference in references not in extractedappno_enhaned:\n",
    "    - Add reference to extractedappno_enhanced.\n",
    "    - Else: pass\n",
    "[TO DO: manually check for samples (eg 100 where score=1, 100 where score=-1, 100 where score=0) whether scl contains decisions that are not mentioned in extractedappno and v.v. Report results]\n",
    "9. Create new column ['extractedecli'], where the application numbers from extractedappno are replaced with the corresponding eclis\n",
    "10. Export citation network to csv file. The network should look like this (ECLIs are abbreviated below):\n",
    "    Source,Target\n",
    "    ECLI:1,ECLI:2\n",
    "    ECLI:1,ECLI:3\n",
    "    ECLI:2,ECLI:3\n",
    "    ECLI:3,ECLI:45\n",
    "    ...\n",
    "\"\"\""
   ]
  }
 ],
 "metadata": {
  "kernelspec": {
   "display_name": "Python 3",
   "language": "python",
   "name": "python3"
  },
  "language_info": {
   "codemirror_mode": {
    "name": "ipython",
    "version": 3
   },
   "file_extension": ".py",
   "mimetype": "text/x-python",
   "name": "python",
   "nbconvert_exporter": "python",
   "pygments_lexer": "ipython3",
   "version": "3.8.5"
  }
 },
 "nbformat": 4,
 "nbformat_minor": 4
}
