{
 "cells": [
  {
   "cell_type": "code",
   "execution_count": null,
   "metadata": {},
   "outputs": [],
   "source": [
    "import os\n",
    "import json\n",
    "\n",
    "import pandas as pd"
   ]
  },
  {
   "cell_type": "code",
   "execution_count": null,
   "metadata": {},
   "outputs": [],
   "source": [
    "# Set paths\n",
    "ECHR_DATA_FILE = '../data/ECHR_metadata_0till600.json'\n",
    "NETWORK_FILE = '../data/network.json'"
   ]
  },
  {
   "cell_type": "code",
   "execution_count": null,
   "metadata": {},
   "outputs": [],
   "source": [
    "# Load JSON file\n",
    "with open(ECHR_DATA_FILE, 'r', encoding='utf-8') as f:\n",
    "    data = json.load(f) \n",
    "data = data['results']\n",
    "\n",
    "# Extract columns and keys from result nested json\n",
    "list_of_dicts = [k.get('columns') for k in data]\n",
    "\n",
    "# Filter relevant columns\n",
    "df_citation_check = pd.DataFrame(list_of_dicts)\n",
    "df_citation_check = df_citation_check[['itemid','languageisocode','appno','extractedappno','scl']]\n",
    "\n",
    "df_citation_check"
   ]
  },
  {
   "cell_type": "code",
   "execution_count": null,
   "metadata": {},
   "outputs": [],
   "source": [
    "# Load JSON file\n",
    "with open(NETWORK_FILE, 'r', encoding='utf-8') as f:\n",
    "    df_to_merge = pd.read_json(f)\n",
    "# Pre arrange df\n",
    "df_to_merge = df_to_merge.transpose()\n",
    "df_to_merge['itemid'] = df_to_merge.index\n",
    "\n",
    "# Filter relevant columns\n",
    "df_to_merge = df_to_merge[['itemid','references']]\n",
    "df_to_merge"
   ]
  },
  {
   "cell_type": "code",
   "execution_count": null,
   "metadata": {},
   "outputs": [],
   "source": [
    "mergedDf = pd.merge(df_citation_check,df_to_merge, on='itemid')\n",
    "mergedDf"
   ]
  },
  {
   "cell_type": "code",
   "execution_count": null,
   "metadata": {},
   "outputs": [],
   "source": []
  },
  {
   "cell_type": "code",
   "execution_count": null,
   "metadata": {},
   "outputs": [],
   "source": [
    "#TO DO\n",
    "\"\"\"Goal is to enrich the extracted citations by HUDOC with parsed citations with the method explained in https://github.com/jorgecarleitao/echr_network/. \n",
    "The necessity follows from the issue that HUDOC harvests citations, but not all, especially the ones where no application number is mentioned, \n",
    "whereas non-HUDOC scripts do not capture many of the HUDOC-extracted citations.\n",
    "\n",
    "Preprocessing\n",
    "1. Remove application numbers in exractedappno that are the same as the application number in appno (eg extractedappno=(38042/06;30979/96;31932/03) and appno=38042/06) \n",
    "\n",
    "Explore how frequently citations are missing when comparing the two columns in the HUDOC-metadata \n",
    "2. Create column that calculates whether the number of citations in the scl column exceeds the number of citations in the extractedappno column or v.v.\n",
    "Do this for the complete df ['citation_diff_extr_vs_scl_all'] and the df with only English documents ['citation_diff_extr_vs_scl_ENG']:\n",
    "- If number of citations in extractedappno > number of citations in scl: score=1\n",
    "- If number of citations in extractedappno < number of citations in scl: score=-1\n",
    "- If number of citations in extractedappno = number of citations in scl: score=0 \n",
    "\n",
    "Insert missing citations in HUDOC-based dataset\n",
    "3. For each application number (appno), merge the application numbers from the extractedappno (for the different languages) column.\n",
    "\n",
    "Explore how frequently citations are missing in the HUDOC-metadata and/or in the parsed data\n",
    "4. Create column that calculates whether the number of citations in the extracteappno column exceeds the number of citations in the references column based on the parsed references (and v.v.)\n",
    "- If number of citations in extractedappno > number of citations in references: score=1\n",
    "- If number of citations in extractedappno < number of citations in references: score=-1\n",
    "- If number of citations in extractedappno = number of citations in references: score=0 \n",
    "\n",
    "Update the extractedappno column where the parsed references include additional citations\n",
    "6. Create column that copies references column. Replace itemids in references with application numbers\n",
    "7. Create column named extractedappno_enhanced. Copy the values of extractedappno in there\n",
    "8. If reference in references not in extractedappno_enhaned:\n",
    "    - Add reference to extractedappno_enhanced.\n",
    "    - Else: pass\n",
    "[TO DO: manually check for samples (eg 100 where score=1, 100 where score=-1, 100 where score=0) whether scl contains decisions that are not mentioned in extractedappno and v.v. Report results]\n",
    "9. Create new column ['extractedecli'], where the application numbers from extractedappno are replaced with the corresponding eclis\n",
    "10. Export citation network to csv file. The network should look like this (ECLIs are abbreviated below):\n",
    "    Source,Target\n",
    "    ECLI:1,ECLI:2\n",
    "    ECLI:1,ECLI:3\n",
    "    ECLI:2,ECLI:3\n",
    "    ECLI:3,ECLI:45\n",
    "    ...\n",
    "\"\"\""
   ]
  }
 ],
 "metadata": {
  "kernelspec": {
   "display_name": "Python 3",
   "language": "python",
   "name": "python3"
  },
  "language_info": {
   "codemirror_mode": {
    "name": "ipython",
    "version": 3
   },
   "file_extension": ".py",
   "mimetype": "text/x-python",
   "name": "python",
   "nbconvert_exporter": "python",
   "pygments_lexer": "ipython3",
   "version": "3.7.0b4"
  }
 },
 "nbformat": 4,
 "nbformat_minor": 4
}
