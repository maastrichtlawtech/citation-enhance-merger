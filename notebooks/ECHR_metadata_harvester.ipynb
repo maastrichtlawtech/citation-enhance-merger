{
 "cells": [
  {
   "cell_type": "code",
   "execution_count": null,
   "metadata": {},
   "outputs": [],
   "source": [
    "import requests\n",
    "import json"
   ]
  },
  {
   "cell_type": "code",
   "execution_count": null,
   "metadata": {},
   "outputs": [],
   "source": [
    "# Select fields\n",
    "fields = ['itemid',\n",
    "          'applicability',\n",
    "          'application',\n",
    "          'appno',\n",
    "          'article',\n",
    "          'conclusion',\n",
    "          'decisiondate',\n",
    "          'docname',\n",
    "          'documentcollectionid',\n",
    "          'documentcollectionid2',\n",
    "          'doctype',\n",
    "          'doctypebranch',\n",
    "          'ecli',\n",
    "          'externalsources',\n",
    "          'extractedappno',\n",
    "          'importance',\n",
    "          'introductiondate',\n",
    "          'isplaceholder',\n",
    "          'issue',\n",
    "          'judgementdate',\n",
    "          'kpdate',\n",
    "          'kpdateAsText',\n",
    "          'kpthesaurus',\n",
    "          'languageisocode',\n",
    "          'meetingnumber',\n",
    "          'originatingbody',\n",
    "          'publishedby',\n",
    "          'Rank',\n",
    "          'referencedate',\n",
    "          'reportdate',\n",
    "          'representedby',\n",
    "          'resolutiondate',\n",
    "          'resolutionnumber',\n",
    "          'respondent',\n",
    "          'respondentOrderEng',\n",
    "          'rulesofcourt',\n",
    "          'separateopinion',\n",
    "          'scl',\n",
    "          'sharepointid',\n",
    "          'typedescription',\n",
    "          'nonviolation',\n",
    "          'violation']\n",
    "#TO DO: field selection to prevent automated download of all fields\n",
    "#TO DO: documentcollectionid2 selection to allow choosing which document type to include. Judgments and Communicatedcases are currently included\n",
    "\n",
    "# sorting by itemid makes the download systematic since this number always increases with new documents in hudoc.\n",
    "META_URL = 'http://hudoc.echr.coe.int/app/query/results' \\\n",
    "      '?query=(contentsitename=ECHR) AND (documentcollectionid2:\"JUDGMENTS\" OR documentcollectionid2:\"COMMUNICATEDCASES\")' \\\n",
    "      '&select={select}' + \\\n",
    "      '&sort=itemid Ascending' + \\\n",
    "      '&start={start}&length={length}'\n",
    "META_URL = META_URL.replace(' ', '%20')\n",
    "META_URL = META_URL.replace('\"', '%22') #example url: \"https://hudoc.echr.coe.int/app/query/results?query=(contentsitename=ECHR)%20AND%20(documentcollectionid2:%22JUDGMENTS%22%20OR%20documentcollectionid2:%22COMMUNICATEDCASES%22)&select=itemid,applicability,application,appno,article,conclusion,decisiondate,docname,documentcollectionid,%20documentcollectionid2,doctype,doctypebranch,ecli,externalsources,extractedappno,importance,introductiondate,%20isplaceholder,issue,judgementdate,kpdate,kpdateAsText,kpthesaurus,languageisocode,meetingnumber,%20originatingbody,publishedby,Rank,referencedate,reportdate,representedby,resolutiondate,%20resolutionnumber,respondent,respondentOrderEng,rulesofcourt,separateopinion,scl,sharepointid,typedescription,%20nonviolation,violation&sort=itemid%20Ascending&start=0&length=2\"\n",
    "META_URL"
   ]
  },
  {
   "cell_type": "code",
   "execution_count": null,
   "metadata": {
    "scrolled": true
   },
   "outputs": [],
   "source": [
    "def get_echr_metadata(meta_url, start, length, filename):\n",
    "    end = start+length\n",
    "    data = []\n",
    "    \n",
    "    if start+length > 500: #HUDOC does not allow fetching more than 500 items at the same time\n",
    "        for i in range(start,length,500):\n",
    "            print(\" - Fetching information from cases {} to {}.\".format(i, i+500))\n",
    "            \n",
    "            # Fromat URL based on the incremented index\n",
    "            url = META_URL.format(select=','.join(fields),start=i,length=500)\n",
    "            r = requests.get(url)\n",
    "            \n",
    "            # Get the results list\n",
    "            temp_dict = r.json()['results']\n",
    "            \n",
    "            # Get every doc from the results list\n",
    "            for result in temp_dict:\n",
    "                data.append(result['columns'])\n",
    "    elif start+length <= 500:\n",
    "        # Format URL based on start and length\n",
    "        url = META_URL.format(select=','.join(fields),start=start,length=length)\n",
    "        r = requests.get(url)\n",
    "        \n",
    "        # Get the results list\n",
    "        temp_dict = r.json()['results']\n",
    "\n",
    "        # Get every doc from the results list\n",
    "        for result in temp_dict:\n",
    "            data.append(result['columns'])\n",
    "    else:\n",
    "        print(\"Something is going wrong. Check the code\")  \n",
    "\n",
    "    with open(filename, 'w', encoding='utf-8') as f:\n",
    "        json.dump(data, f) #this doesn't work in subsequent analyses, probably because multiple dictionaries are dumped\n",
    "\n",
    "    print(f'Requested ECHR metadata are fetched and written to {filename}')"
   ]
  },
  {
   "cell_type": "code",
   "execution_count": null,
   "metadata": {},
   "outputs": [],
   "source": [
    "get_echr_metadata(META_URL, 0, 8, \"ECHRrrrrr.json\") "
   ]
  },
  {
   "cell_type": "code",
   "execution_count": null,
   "metadata": {},
   "outputs": [],
   "source": []
  }
 ],
 "metadata": {
  "kernelspec": {
   "display_name": "Python 3",
   "language": "python",
   "name": "python3"
  },
  "language_info": {
   "codemirror_mode": {
    "name": "ipython",
    "version": 3
   },
   "file_extension": ".py",
   "mimetype": "text/x-python",
   "name": "python",
   "nbconvert_exporter": "python",
   "pygments_lexer": "ipython3",
   "version": "3.8.5"
  }
 },
 "nbformat": 4,
 "nbformat_minor": 4
}
